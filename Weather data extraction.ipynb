{
 "cells": [
  {
   "cell_type": "code",
   "execution_count": 1,
   "id": "b51e7bef",
   "metadata": {},
   "outputs": [],
   "source": [
    "# importing the library\n",
    "import requests\n",
    "from bs4 import BeautifulSoup"
   ]
  },
  {
   "cell_type": "code",
   "execution_count": 2,
   "id": "5b88854e",
   "metadata": {},
   "outputs": [],
   "source": [
    "# importing the library\n",
    "city=\"cuttack\"\n",
    "\n",
    "# create url\n",
    "url=\"https://www.google.com/search?q=\"+\"weather\"+city\n",
    "\n",
    "# requests instance\n",
    "html=requests.get(url).content\n",
    "\n",
    "# getting raw data\n",
    "soup=BeautifulSoup(html,'html.parser')"
   ]
  },
  {
   "cell_type": "code",
   "execution_count": 15,
   "id": "0c22ea38",
   "metadata": {},
   "outputs": [],
   "source": [
    "# get the temperature\n",
    "temp=soup.find('div',attrs={'class':'BNeawe iBp4i AP7Wnd'}).text\n",
    "\n",
    "# this contains time and sky description\n",
    "str =soup.find('div',class_='BNeawe tAd8D AP7Wnd').text\n",
    "\n",
    "# format the data\n",
    "data=str.split('\\n')\n",
    "time=data[0]\n",
    "sky=data[1]"
   ]
  },
  {
   "cell_type": "code",
   "execution_count": 76,
   "id": "ceeceae8",
   "metadata": {},
   "outputs": [],
   "source": [
    "#to get other information\n",
    "listdiv = soup.findAll('div', attrs={'class': 'BNeawe s3v9rd AP7Wnd'})\n",
    "others=listdiv[7].text"
   ]
  },
  {
   "cell_type": "code",
   "execution_count": 77,
   "id": "d73761c5",
   "metadata": {},
   "outputs": [
    {
     "name": "stdout",
     "output_type": "stream",
     "text": [
      "Temperature is 34°C\n",
      "Time is Saturday 4:43 pm\n",
      "Sky description is Haze\n",
      "10-Day Weather-Cuttack, Odisha, India. As of 08:38 IST. Today. 36°/24°. 5%. Sat 13 | Day. 36°. 5%. WNW 9 km/h. Generally clear.\n"
     ]
    }
   ],
   "source": [
    "#printing all the data\n",
    "print(\"Temperature is\",temp)\n",
    "print(\"Time is\",time)\n",
    "print(\"Sky description is\",sky)\n",
    "print(others)"
   ]
  }
 ],
 "metadata": {
  "kernelspec": {
   "display_name": "Python 3 (ipykernel)",
   "language": "python",
   "name": "python3"
  },
  "language_info": {
   "codemirror_mode": {
    "name": "ipython",
    "version": 3
   },
   "file_extension": ".py",
   "mimetype": "text/x-python",
   "name": "python",
   "nbconvert_exporter": "python",
   "pygments_lexer": "ipython3",
   "version": "3.11.5"
  }
 },
 "nbformat": 4,
 "nbformat_minor": 5
}
